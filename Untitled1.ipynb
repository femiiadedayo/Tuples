{
  "nbformat": 4,
  "nbformat_minor": 0,
  "metadata": {
    "colab": {
      "name": "Untitled1.ipynb",
      "provenance": [],
      "authorship_tag": "ABX9TyMW8wJFPNoh2Y2xElPRq/8B",
      "include_colab_link": true
    },
    "kernelspec": {
      "name": "python3",
      "display_name": "Python 3"
    },
    "language_info": {
      "name": "python"
    }
  },
  "cells": [
    {
      "cell_type": "markdown",
      "metadata": {
        "id": "view-in-github",
        "colab_type": "text"
      },
      "source": [
        "<a href=\"https://colab.research.google.com/github/femiiadedayo/Tuples/blob/master/Untitled1.ipynb\" target=\"_parent\"><img src=\"https://colab.research.google.com/assets/colab-badge.svg\" alt=\"Open In Colab\"/></a>"
      ]
    },
    {
      "cell_type": "code",
      "metadata": {
        "colab": {
          "base_uri": "https://localhost:8080/"
        },
        "id": "RPjBA63Joc54",
        "outputId": "18882601-9de1-4296-e15a-057817debc39"
      },
      "source": [
        "print ('i '+'love '+'You')"
      ],
      "execution_count": 1,
      "outputs": [
        {
          "output_type": "stream",
          "text": [
            "i love You\n"
          ],
          "name": "stdout"
        }
      ]
    },
    {
      "cell_type": "code",
      "metadata": {
        "colab": {
          "base_uri": "https://localhost:8080/"
        },
        "id": "B_mPvKAfoof3",
        "outputId": "397bf0e7-7589-4c28-cfce-99a08afa63c5"
      },
      "source": [
        "first_name = \"Tobiloba\"\n",
        "last_name = \"Adejumo\"\n",
        "full_name = first_name + \" \" + last_name\n",
        "print(full_name)"
      ],
      "execution_count": 2,
      "outputs": [
        {
          "output_type": "stream",
          "text": [
            "Tobiloba Adejumo\n"
          ],
          "name": "stdout"
        }
      ]
    },
    {
      "cell_type": "code",
      "metadata": {
        "colab": {
          "base_uri": "https://localhost:8080/"
        },
        "id": "4SlEvBxhpP8B",
        "outputId": "240b864c-9b24-4344-ac77-9b2d3b26575c"
      },
      "source": [
        "first_name = \"femi\"\n",
        "print('my name is {}' .format(first_name))"
      ],
      "execution_count": 3,
      "outputs": [
        {
          "output_type": "stream",
          "text": [
            "my name is femi\n"
          ],
          "name": "stdout"
        }
      ]
    },
    {
      "cell_type": "code",
      "metadata": {
        "colab": {
          "base_uri": "https://localhost:8080/"
        },
        "id": "AkdFMOHFp6su",
        "outputId": "b879bde6-954c-4111-dbf1-5c06d11bbd48"
      },
      "source": [
        "print(\"hello {}, you are +{} today\" .format(first_name, 1))"
      ],
      "execution_count": 7,
      "outputs": [
        {
          "output_type": "stream",
          "text": [
            "hello femi, you are +1 today\n"
          ],
          "name": "stdout"
        }
      ]
    },
    {
      "cell_type": "code",
      "metadata": {
        "colab": {
          "base_uri": "https://localhost:8080/"
        },
        "id": "CRLoTJXFqZ5l",
        "outputId": "c74656a5-1e67-48e3-a941-ff16ad418f81"
      },
      "source": [
        "first_name = \"Godwin\"\n",
        "print(f\"hello {first_name}\")"
      ],
      "execution_count": 8,
      "outputs": [
        {
          "output_type": "stream",
          "text": [
            "hello Godwin\n"
          ],
          "name": "stdout"
        }
      ]
    },
    {
      "cell_type": "code",
      "metadata": {
        "colab": {
          "base_uri": "https://localhost:8080/"
        },
        "id": "PdHVvlG8sJn8",
        "outputId": "b1fbbb17-6c7e-4d49-8cd9-825855bcfdd2"
      },
      "source": [
        "word = \"animal\"\n",
        "print(word[0])\n",
        "print(word[1])\n",
        "print(word[2])"
      ],
      "execution_count": 9,
      "outputs": [
        {
          "output_type": "stream",
          "text": [
            "a\n",
            "n\n",
            "i\n"
          ],
          "name": "stdout"
        }
      ]
    },
    {
      "cell_type": "code",
      "metadata": {
        "colab": {
          "base_uri": "https://localhost:8080/"
        },
        "id": "woRLwYaLs0Qy",
        "outputId": "a800fae5-c218-44b0-8c3d-6592d7f56516"
      },
      "source": [
        "print(word[0:2])"
      ],
      "execution_count": 10,
      "outputs": [
        {
          "output_type": "stream",
          "text": [
            "an\n"
          ],
          "name": "stdout"
        }
      ]
    },
    {
      "cell_type": "code",
      "metadata": {
        "colab": {
          "base_uri": "https://localhost:8080/"
        },
        "id": "rmqSUKi0tRfJ",
        "outputId": "17780c53-b10a-42d2-8076-98c55f81dbae"
      },
      "source": [
        "print(word[0])\n",
        "print(word[1:3])\n",
        "print(word[3:5])"
      ],
      "execution_count": 11,
      "outputs": [
        {
          "output_type": "stream",
          "text": [
            "a\n",
            "ni\n",
            "ma\n"
          ],
          "name": "stdout"
        }
      ]
    },
    {
      "cell_type": "code",
      "metadata": {
        "colab": {
          "base_uri": "https://localhost:8080/"
        },
        "id": "QpSdGogjtwzQ",
        "outputId": "de23a9ad-1e06-448a-fcc5-bd9a78de4b36"
      },
      "source": [
        "print(word[0])\n",
        "print(word[1:3])\n",
        "print(word[3:6])"
      ],
      "execution_count": 12,
      "outputs": [
        {
          "output_type": "stream",
          "text": [
            "a\n",
            "ni\n",
            "mal\n"
          ],
          "name": "stdout"
        }
      ]
    },
    {
      "cell_type": "code",
      "metadata": {
        "colab": {
          "base_uri": "https://localhost:8080/"
        },
        "id": "iAoOmPOvt24f",
        "outputId": "97bb0b51-5a83-4cfc-946f-069f9a550c9d"
      },
      "source": [
        "print(word.title())"
      ],
      "execution_count": 13,
      "outputs": [
        {
          "output_type": "stream",
          "text": [
            "Animal\n"
          ],
          "name": "stdout"
        }
      ]
    },
    {
      "cell_type": "code",
      "metadata": {
        "colab": {
          "base_uri": "https://localhost:8080/"
        },
        "id": "aIIvF0gOuKz7",
        "outputId": "c4405f80-51a8-402c-f036-45ad39131b0f"
      },
      "source": [
        "print(\"Love and Light\".upper())"
      ],
      "execution_count": 14,
      "outputs": [
        {
          "output_type": "stream",
          "text": [
            "LOVE AND LIGHT\n"
          ],
          "name": "stdout"
        }
      ]
    },
    {
      "cell_type": "code",
      "metadata": {
        "colab": {
          "base_uri": "https://localhost:8080/"
        },
        "id": "J0z8cJibuWiX",
        "outputId": "782bf4a9-61d0-4c5e-df63-474a6145866c"
      },
      "source": [
        "print(\"GREATNESS\".lower())"
      ],
      "execution_count": 15,
      "outputs": [
        {
          "output_type": "stream",
          "text": [
            "greatness\n"
          ],
          "name": "stdout"
        }
      ]
    },
    {
      "cell_type": "code",
      "metadata": {
        "colab": {
          "base_uri": "https://localhost:8080/"
        },
        "id": "TSRyLT5uukYD",
        "outputId": "b287a5a7-8851-443b-c1ba-3181ff164e29"
      },
      "source": [
        "WORD = \"hELLO THERE!\"\n",
        "print(WORD.replace('!', '.'))"
      ],
      "execution_count": 17,
      "outputs": [
        {
          "output_type": "stream",
          "text": [
            "hELLO THERE.\n"
          ],
          "name": "stdout"
        }
      ]
    },
    {
      "cell_type": "code",
      "metadata": {
        "colab": {
          "base_uri": "https://localhost:8080/"
        },
        "id": "Lz6BFzcJu5FL",
        "outputId": "2831f98a-d70e-4c15-8ecd-2987fcb9cb83"
      },
      "source": [
        "sentence = \"welcome to Hamoye Externship\"\n",
        "print(sentence.find('ship'))"
      ],
      "execution_count": 18,
      "outputs": [
        {
          "output_type": "stream",
          "text": [
            "24\n"
          ],
          "name": "stdout"
        }
      ]
    },
    {
      "cell_type": "code",
      "metadata": {
        "colab": {
          "base_uri": "https://localhost:8080/"
        },
        "id": "1VvNAAKevYcD",
        "outputId": "40b233c7-3df2-4e89-cb0e-a7b9b3cb31f5"
      },
      "source": [
        "x =10\n",
        "y =4\n",
        "if x>y:\n",
        "  print (\"x is greater than y\")"
      ],
      "execution_count": 19,
      "outputs": [
        {
          "output_type": "stream",
          "text": [
            "x is greater than y\n"
          ],
          "name": "stdout"
        }
      ]
    },
    {
      "cell_type": "code",
      "metadata": {
        "colab": {
          "base_uri": "https://localhost:8080/"
        },
        "id": "MF7cKq7nwDOk",
        "outputId": "b93b8ffd-5266-4fe1-80ae-7a16495dee33"
      },
      "source": [
        "x = 1\n",
        "y = 4\n",
        "if x > y:\n",
        "  print(\"x is greater than y\")\n",
        "else:\n",
        "  print(\"y is greater than x\")"
      ],
      "execution_count": 20,
      "outputs": [
        {
          "output_type": "stream",
          "text": [
            "y is greater than x\n"
          ],
          "name": "stdout"
        }
      ]
    },
    {
      "cell_type": "code",
      "metadata": {
        "colab": {
          "base_uri": "https://localhost:8080/"
        },
        "id": "93sDNG1xwur0",
        "outputId": "8ce91486-1437-4d9b-9f7f-44256c7cf062"
      },
      "source": [
        "x = 1\n",
        "y = 3\n",
        "if x > y:\n",
        "  print (\"x is greater than y\")\n",
        "elif x==y:\n",
        "  print (\"x is equal to y\")\n",
        "else:\n",
        "  print(\"y is greater thn x\")"
      ],
      "execution_count": 21,
      "outputs": [
        {
          "output_type": "stream",
          "text": [
            "y is greater thn x\n"
          ],
          "name": "stdout"
        }
      ]
    },
    {
      "cell_type": "code",
      "metadata": {
        "colab": {
          "base_uri": "https://localhost:8080/"
        },
        "id": "qLX7IvqwxfKA",
        "outputId": "3dfcf149-146f-4705-b22d-262e9f758b45"
      },
      "source": [
        "Names = ['Zarah', 'David', 'Abigail']\n",
        "print(Names[0])"
      ],
      "execution_count": 22,
      "outputs": [
        {
          "output_type": "stream",
          "text": [
            "Zarah\n"
          ],
          "name": "stdout"
        }
      ]
    },
    {
      "cell_type": "code",
      "metadata": {
        "colab": {
          "base_uri": "https://localhost:8080/"
        },
        "id": "XlGAbypfyGJA",
        "outputId": "0a2acb5b-ea47-42da-f694-1cb67a79f077"
      },
      "source": [
        "list2 = [\"cat\", \"Dog\", [\"fish\", \"Crocodile\"], 70]\n",
        "print (list2[2])"
      ],
      "execution_count": 27,
      "outputs": [
        {
          "output_type": "stream",
          "text": [
            "['fish', 'Crocodile']\n"
          ],
          "name": "stdout"
        }
      ]
    },
    {
      "cell_type": "code",
      "metadata": {
        "colab": {
          "base_uri": "https://localhost:8080/"
        },
        "id": "k7uTzbVgyvnW",
        "outputId": "7d0138f8-2085-4c1a-ec48-91cce6790ad0"
      },
      "source": [
        "#list2 = list1[2]\n",
        "print(list2[1])"
      ],
      "execution_count": 34,
      "outputs": [
        {
          "output_type": "stream",
          "text": [
            "Dog\n"
          ],
          "name": "stdout"
        }
      ]
    },
    {
      "cell_type": "code",
      "metadata": {
        "colab": {
          "base_uri": "https://localhost:8080/"
        },
        "id": "NWgGF5tJzHll",
        "outputId": "94d14c61-c595-46ed-a199-5b2470d7f8e3"
      },
      "source": [
        "student1 = ['Godwin', 24, \"computer science\"]\n",
        "print(student1)"
      ],
      "execution_count": 35,
      "outputs": [
        {
          "output_type": "stream",
          "text": [
            "['Godwin', 24, 'computer science']\n"
          ],
          "name": "stdout"
        }
      ]
    },
    {
      "cell_type": "code",
      "metadata": {
        "colab": {
          "base_uri": "https://localhost:8080/"
        },
        "id": "gvKjSSTj0Q8u",
        "outputId": "7775f26e-32f7-4eb5-b2c3-c4413cd55abd"
      },
      "source": [
        "student1 = ['Godwin', 24, \"computer science\"]\n",
        "print(student1)\n",
        "#update student godwin's age\n",
        "student1[1] = 25\n",
        "print(student1)"
      ],
      "execution_count": 36,
      "outputs": [
        {
          "output_type": "stream",
          "text": [
            "['Godwin', 24, 'computer science']\n",
            "['Godwin', 25, 'computer science']\n"
          ],
          "name": "stdout"
        }
      ]
    },
    {
      "cell_type": "code",
      "metadata": {
        "colab": {
          "base_uri": "https://localhost:8080/"
        },
        "id": "7tcpI4jv0mtw",
        "outputId": "66ccbb1e-2f74-4437-9e37-a3f9af16c2c1"
      },
      "source": [
        "prices = [23.5, 4, 2.5, 9.0]\n",
        "prices.sort()\n",
        "print(prices)"
      ],
      "execution_count": 37,
      "outputs": [
        {
          "output_type": "stream",
          "text": [
            "[2.5, 4, 9.0, 23.5]\n"
          ],
          "name": "stdout"
        }
      ]
    },
    {
      "cell_type": "code",
      "metadata": {
        "colab": {
          "base_uri": "https://localhost:8080/"
        },
        "id": "Oz75SzVd1Tyj",
        "outputId": "7cdb5cdf-87f9-40a9-f247-7e4a7fa0bf71"
      },
      "source": [
        "list1 = [2, 9.7, \"word\", True]\n",
        "print(type(list1))"
      ],
      "execution_count": 38,
      "outputs": [
        {
          "output_type": "stream",
          "text": [
            "<class 'list'>\n"
          ],
          "name": "stdout"
        }
      ]
    },
    {
      "cell_type": "code",
      "metadata": {
        "colab": {
          "base_uri": "https://localhost:8080/"
        },
        "id": "KbuVzlIR19--",
        "outputId": "774d5ce1-f702-47ef-d463-5e2c3335b0a8"
      },
      "source": [
        "weeks = [\"monday\", \"tuesday\", \"wednesday\"]\n",
        "weeks.append(\"thursday\")\n",
        "print(weeks)"
      ],
      "execution_count": 39,
      "outputs": [
        {
          "output_type": "stream",
          "text": [
            "['monday', 'tuesday', 'wednesday', 'thursday']\n"
          ],
          "name": "stdout"
        }
      ]
    },
    {
      "cell_type": "code",
      "metadata": {
        "colab": {
          "base_uri": "https://localhost:8080/"
        },
        "id": "5FHelyfc2ZL0",
        "outputId": "d5a3ab1d-444b-4a8e-c5fa-672d12b7bf2a"
      },
      "source": [
        "weeks = [\"monday\", \"tuesday\", \"wednesday\"]\n",
        "weeks.append([\"thursday\", \"friday\"])\n",
        "print(weeks)"
      ],
      "execution_count": 40,
      "outputs": [
        {
          "output_type": "stream",
          "text": [
            "['monday', 'tuesday', 'wednesday', ['thursday', 'friday']]\n"
          ],
          "name": "stdout"
        }
      ]
    },
    {
      "cell_type": "code",
      "metadata": {
        "colab": {
          "base_uri": "https://localhost:8080/"
        },
        "id": "8mt8lT__2tbV",
        "outputId": "fc0e0fa8-e9be-4cf2-e907-725980c9e745"
      },
      "source": [
        "weeks = [\"monday\", \"tuesday\", \"wednesday\"]\n",
        "weeks.extend([\"thursday\", \"friday\"])\n",
        "print(weeks)"
      ],
      "execution_count": 41,
      "outputs": [
        {
          "output_type": "stream",
          "text": [
            "['monday', 'tuesday', 'wednesday', 'thursday', 'friday']\n"
          ],
          "name": "stdout"
        }
      ]
    },
    {
      "cell_type": "code",
      "metadata": {
        "colab": {
          "base_uri": "https://localhost:8080/"
        },
        "id": "79gbIfKK26BJ",
        "outputId": "e6298cf0-3068-4ed9-81a2-1e96c6fa1c11"
      },
      "source": [
        "weeks = [\"monday\", \"tuesday\", \"wednesday\"]\n",
        "print(weeks.index(\"monday\"))"
      ],
      "execution_count": 42,
      "outputs": [
        {
          "output_type": "stream",
          "text": [
            "0\n"
          ],
          "name": "stdout"
        }
      ]
    },
    {
      "cell_type": "code",
      "metadata": {
        "colab": {
          "base_uri": "https://localhost:8080/"
        },
        "id": "_J1o7rP23G5W",
        "outputId": "614efd95-aff1-4223-df6b-4bcbac9185e3"
      },
      "source": [
        "Ages = [3, 5, 7]\n",
        "print(\"{} is the highest age in the group\".format(max(Ages)))"
      ],
      "execution_count": 43,
      "outputs": [
        {
          "output_type": "stream",
          "text": [
            "7 is the highest age in the group\n"
          ],
          "name": "stdout"
        }
      ]
    },
    {
      "cell_type": "code",
      "metadata": {
        "colab": {
          "base_uri": "https://localhost:8080/"
        },
        "id": "b1JUtciM3m-v",
        "outputId": "81a2b6da-221b-4aba-f91e-dbf6956dfb3e"
      },
      "source": [
        "print(\"{} is the lowest age in the group\".format(min(Ages)))"
      ],
      "execution_count": 44,
      "outputs": [
        {
          "output_type": "stream",
          "text": [
            "3 is the lowest age in the group\n"
          ],
          "name": "stdout"
        }
      ]
    },
    {
      "cell_type": "code",
      "metadata": {
        "colab": {
          "base_uri": "https://localhost:8080/"
        },
        "id": "vMzt0VbG3x--",
        "outputId": "5f911dd8-67bd-4275-ef75-1167a9664a74"
      },
      "source": [
        "print(len(Ages))\n",
        "#list() function"
      ],
      "execution_count": 46,
      "outputs": [
        {
          "output_type": "stream",
          "text": [
            "3\n"
          ],
          "name": "stdout"
        }
      ]
    },
    {
      "cell_type": "code",
      "metadata": {
        "colab": {
          "base_uri": "https://localhost:8080/"
        },
        "id": "IZ0NxV2Q4CTN",
        "outputId": "b399f43d-b989-4270-abea-5765a74ac7d1"
      },
      "source": [
        "string1 = \"python\"\n",
        "list1 = list(string1)\n",
        "print(list1)\n",
        "print(list1[4])"
      ],
      "execution_count": 47,
      "outputs": [
        {
          "output_type": "stream",
          "text": [
            "['p', 'y', 't', 'h', 'o', 'n']\n",
            "o\n"
          ],
          "name": "stdout"
        }
      ]
    },
    {
      "cell_type": "code",
      "metadata": {
        "colab": {
          "base_uri": "https://localhost:8080/"
        },
        "id": "b41F7HH24mIs",
        "outputId": "512399db-5744-46bc-d445-0e6168cf7d4a"
      },
      "source": [
        "scores = (2.4, 6.9, 3.6, 8.3, 2.0, 4.5)\n",
        "print(scores[4])"
      ],
      "execution_count": 48,
      "outputs": [
        {
          "output_type": "stream",
          "text": [
            "2.0\n"
          ],
          "name": "stdout"
        }
      ]
    },
    {
      "cell_type": "code",
      "metadata": {
        "colab": {
          "base_uri": "https://localhost:8080/"
        },
        "id": "GjXEzSWt9c3c",
        "outputId": "4e3c5e14-be4d-4836-cc84-39ee708d8c1e"
      },
      "source": [
        "tupple1 = (2.4, 6.9, 3.6, 8.3, 2.0, 4.5)\n",
        "tupple2 = (1, 2, 3, 4, 5, 6)\n",
        "new_tupple = tupple1 + tupple2\n",
        "print(new_tupple)"
      ],
      "execution_count": 49,
      "outputs": [
        {
          "output_type": "stream",
          "text": [
            "(2.4, 6.9, 3.6, 8.3, 2.0, 4.5, 1, 2, 3, 4, 5, 6)\n"
          ],
          "name": "stdout"
        }
      ]
    },
    {
      "cell_type": "code",
      "metadata": {
        "colab": {
          "base_uri": "https://localhost:8080/"
        },
        "id": "yBEWhrqE-QSz",
        "outputId": "e6b12680-146c-42e5-e243-0c220f95be04"
      },
      "source": [
        "colors = {\"red\", \"black\", \"white\", \"green\", \"black\"}\n",
        "print(colors)"
      ],
      "execution_count": 54,
      "outputs": [
        {
          "output_type": "stream",
          "text": [
            "{'green', 'white', 'black', 'red'}\n"
          ],
          "name": "stdout"
        }
      ]
    },
    {
      "cell_type": "code",
      "metadata": {
        "colab": {
          "base_uri": "https://localhost:8080/"
        },
        "id": "pqPd-Z6s-Ylx",
        "outputId": "b5a2b710-4a99-4cf2-dcae-aaa7ee750cc3"
      },
      "source": [
        "colors =set([\"red\", \"black\", \"white\", \"green\", \"black\"])\n",
        "colors = list(colors)\n",
        "print(colors)\n"
      ],
      "execution_count": 55,
      "outputs": [
        {
          "output_type": "stream",
          "text": [
            "['green', 'white', 'black', 'red']\n"
          ],
          "name": "stdout"
        }
      ]
    },
    {
      "cell_type": "code",
      "metadata": {
        "colab": {
          "base_uri": "https://localhost:8080/"
        },
        "id": "I6M6YMBCBh7_",
        "outputId": "48ad5719-683a-44ae-c4ef-606e8a768ec5"
      },
      "source": [
        "colors =set([\"red\", \"black\", \"white\", \"green\", \"black\"])\n",
        "colors.add(\"blue\")\n",
        "colors.remove('red')\n",
        "print(len(colors))"
      ],
      "execution_count": 59,
      "outputs": [
        {
          "output_type": "stream",
          "text": [
            "4\n"
          ],
          "name": "stdout"
        }
      ]
    },
    {
      "cell_type": "code",
      "metadata": {
        "colab": {
          "base_uri": "https://localhost:8080/"
        },
        "id": "gsLeqlPoB9z5",
        "outputId": "c1dec568-6ddf-42c9-9643-e428e4949acd"
      },
      "source": [
        "A = {'red', 'blue', 'green'}\n",
        "B = {'yellow', 'red', 'orange'}\n",
        "# by operator\n",
        "print(A|B)\n",
        "# by method\n",
        "print(A.union(B))"
      ],
      "execution_count": 61,
      "outputs": [
        {
          "output_type": "stream",
          "text": [
            "{'blue', 'orange', 'green', 'yellow', 'red'}\n",
            "{'blue', 'orange', 'green', 'yellow', 'red'}\n"
          ],
          "name": "stdout"
        }
      ]
    },
    {
      "cell_type": "code",
      "metadata": {
        "colab": {
          "base_uri": "https://localhost:8080/"
        },
        "id": "02hlK7efD7NY",
        "outputId": "63c1c659-6e9d-47d8-b562-2967eea24a10"
      },
      "source": [
        "#by operator\n",
        "print(A&B)"
      ],
      "execution_count": 62,
      "outputs": [
        {
          "output_type": "stream",
          "text": [
            "{'red'}\n"
          ],
          "name": "stdout"
        }
      ]
    },
    {
      "cell_type": "code",
      "metadata": {
        "colab": {
          "base_uri": "https://localhost:8080/"
        },
        "id": "ZTtGjMrTEYhv",
        "outputId": "6c00168b-f9ff-4fcc-8199-2960e67fee96"
      },
      "source": [
        "# by method\n",
        "print(A.intersection(B))"
      ],
      "execution_count": 63,
      "outputs": [
        {
          "output_type": "stream",
          "text": [
            "{'red'}\n"
          ],
          "name": "stdout"
        }
      ]
    },
    {
      "cell_type": "code",
      "metadata": {
        "colab": {
          "base_uri": "https://localhost:8080/"
        },
        "id": "FMlLxGa0Eg0-",
        "outputId": "15894913-ec61-499f-a118-1652fe9a1bc1"
      },
      "source": [
        "#by operator\n",
        "print(A-B)"
      ],
      "execution_count": 64,
      "outputs": [
        {
          "output_type": "stream",
          "text": [
            "{'green', 'blue'}\n"
          ],
          "name": "stdout"
        }
      ]
    },
    {
      "cell_type": "code",
      "metadata": {
        "colab": {
          "base_uri": "https://localhost:8080/"
        },
        "id": "RYPcITvkEtNA",
        "outputId": "3683054d-5395-48f8-eac6-53cd6040e202"
      },
      "source": [
        "#by method\n",
        "print(A.difference(B))"
      ],
      "execution_count": 65,
      "outputs": [
        {
          "output_type": "stream",
          "text": [
            "{'green', 'blue'}\n"
          ],
          "name": "stdout"
        }
      ]
    },
    {
      "cell_type": "code",
      "metadata": {
        "colab": {
          "base_uri": "https://localhost:8080/"
        },
        "id": "oGg9Tx94E3C3",
        "outputId": "4dd0dfe9-b5fd-4902-c8ef-9cb33f16b22e"
      },
      "source": [
        "#by operator\n",
        "print(A^B)"
      ],
      "execution_count": 66,
      "outputs": [
        {
          "output_type": "stream",
          "text": [
            "{'green', 'yellow', 'blue', 'orange'}\n"
          ],
          "name": "stdout"
        }
      ]
    },
    {
      "cell_type": "code",
      "metadata": {
        "colab": {
          "base_uri": "https://localhost:8080/"
        },
        "id": "IEC8wUpPFEpx",
        "outputId": "8cdbaef7-410a-41cb-9a43-6a196fec690f"
      },
      "source": [
        "#by Method\n",
        "print(A.symmetric_difference(B))"
      ],
      "execution_count": 67,
      "outputs": [
        {
          "output_type": "stream",
          "text": [
            "{'green', 'yellow', 'blue', 'orange'}\n"
          ],
          "name": "stdout"
        }
      ]
    },
    {
      "cell_type": "code",
      "metadata": {
        "id": "jhwA7qnaFP58"
      },
      "source": [
        ""
      ],
      "execution_count": null,
      "outputs": []
    }
  ]
}